{
  "metadata": {
    "kernelspec": {
      "name": "python",
      "display_name": "Python (Pyodide)",
      "language": "python"
    },
    "language_info": {
      "codemirror_mode": {
        "name": "python",
        "version": 3
      },
      "file_extension": ".py",
      "mimetype": "text/x-python",
      "name": "python",
      "nbconvert_exporter": "python",
      "pygments_lexer": "ipython3",
      "version": "3.8"
    }
  },
  "nbformat_minor": 5,
  "nbformat": 4,
  "cells": [
    {
      "id": "ea146beb-b465-489e-b30d-1062ea3318f3",
      "cell_type": "code",
      "source": "import random\nimport numpy as np\nimport matplotlib.pyplot as plt\n\n# 1. Coin Toss Simulation\ndef coin_toss_simulation(trials=10000):\n    heads = sum(random.choice(['Heads', 'Tails']) == 'Heads' for _ in range(trials))\n    tails = trials - heads\n    return heads / trials, tails / trials\n\n# 2. Dice Roll Simulation\ndef dice_roll_simulation(trials=10000):\n    sum_seven = sum(sum(random.randint(1, 6) for _ in range(2)) == 7 for _ in range(trials))\n    return sum_seven / trials\n\n# 3. At Least One '6' in 10 Rolls\ndef at_least_one_six_simulation(trials=10000, rolls=10):\n    success = sum(any(random.randint(1, 6) == 6 for _ in range(rolls)) for _ in range(trials))\n    return success / trials\n\n# 4. Conditional Probability: Red Given Blue\ndef conditional_probability_simulation(trials=1000):\n    red_given_blue = sum(\n        random.choice(['Red', 'Green', 'Blue']) == 'Blue' and random.choice(['Red', 'Green', 'Blue']) == 'Red'\n        for _ in range(trials)\n    )\n    blue_then_red = sum(\n        random.choice(['Red', 'Green', 'Blue']) == 'Blue'\n        for _ in range(trials)\n    )\n    return red_given_blue / blue_then_red if blue_then_red else 0\n\n# 5. Discrete Random Variable: Mean, Variance, Std Dev\ndef discrete_random_variable_sample(size=1000):\n    outcomes = [1, 2, 3]\n    probabilities = [0.25, 0.35, 0.4]\n    sample = np.random.choice(outcomes, size=size, p=probabilities)\n    mean = np.mean(sample)\n    variance = np.var(sample)\n    std_dev = np.std(sample)\n    return mean, variance, std_dev\n\n# 6. Exponential Distribution Simulation\ndef exponential_distribution_simulation(samples=2000, mean=5):\n    data = np.random.exponential(scale=mean, size=samples)\n    plt.hist(data, bins=30, density=True, alpha=0.6, color='g')\n    xmin, xmax = plt.xlim()\n    x = np.linspace(xmin, xmax, 100)\n    p = (1/mean) * np.exp(-x/mean)\n    plt.plot(x, p, 'k', linewidth=2)\n    plt.title(f\"Exponential Distribution (mean={mean})\")\n    plt.show()\n\n# 7. Central Limit Theorem Simulation\ndef central_limit_theorem_simulation(sample_size=30, num_samples=1000):\n    uniform_samples = np.random.uniform(0, 1, (num_samples, sample_size))\n    sample_means = np.mean(uniform_samples, axis=1)\n    plt.hist(sample_means, bins=30, density=True, alpha=0.6, color='g')\n    plt.title(f\"Central Limit Theorem: Sample Means (n={sample_size})\")\n    plt.show()\n\n# Running the simulations\nif __name__ == \"__main__\":\n    # Coin Toss Simulation\n    heads_prob, tails_prob = coin_toss_simulation()\n    print(f\"Coin Toss - Heads: {heads_prob:.4f}, Tails: {tails_prob:.4f}\")\n\n    # Dice Roll Simulation\n    prob_sum_seven = dice_roll_simulation()\n    print(f\"Dice Roll - Probability of Sum 7: {prob_sum_seven:.4f}\")\n\n    # At Least One '6' in 10 Rolls\n    prob_at_least_one_six = at_least_one_six_simulation()\n    print(f\"At Least One '6' in 10 Rolls: {prob_at_least_one_six:.4f}\")\n\n    # Conditional Probability: Red Given Blue\n    prob_red_given_blue = conditional_probability_simulation()\n    print(f\"Conditional Probability - Red Given Blue: {prob_red_given_blue:.4f}\")\n\n    # Discrete Random Variable: Mean, Variance, Std Dev\n    mean, variance, std_dev = discrete_random_variable_sample()\n    print(f\"Discrete Random Variable - Mean: {mean:.4f}, Variance: {variance:.4f}, Std Dev: {std_dev:.4f}\")\n\n    # Exponential Distribution Simulation\n    exponential_distribution_simulation()\n\n    # Central Limit Theorem Simulation\n    central_limit_theorem_simulation()\n",
      "metadata": {
        "trusted": true
      },
      "outputs": [
        {
          "name": "stdout",
          "output_type": "stream",
          "text": "Coin Toss - Heads: 0.4954, Tails: 0.5046\nDice Roll - Probability of Sum 7: 0.1663\n"
        }
      ],
      "execution_count": null
    },
    {
      "id": "b3762f52-546d-4842-9322-c7821d662907",
      "cell_type": "code",
      "source": "",
      "metadata": {
        "trusted": true
      },
      "outputs": [],
      "execution_count": null
    },
    {
      "id": "1c56cfec-be1d-4ff7-9502-54e10eb32c73",
      "cell_type": "code",
      "source": "",
      "metadata": {
        "trusted": true
      },
      "outputs": [],
      "execution_count": null
    }
  ]
}